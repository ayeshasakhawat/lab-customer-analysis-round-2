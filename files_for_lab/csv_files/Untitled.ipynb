{
 "cells": [
  {
   "cell_type": "code",
   "execution_count": null,
   "id": "07b04767",
   "metadata": {},
   "outputs": [],
   "source": [
    "# NOTES\n",
    "\n",
    "# Normal Distribution not found in \n",
    "# number of open complaints\n",
    "# month\n",
    "# response rate\n",
    "\n",
    "\n",
    "#LAB 7\n",
    "# improving scores \n",
    "# use the log transformation to make it more normally distributed \n",
    "# Modeling ~ change sth to improve the score \n",
    "# FINAL ROUND \n",
    "# cleaning the jupyter notebook\n",
    "# what did you find from your data that you could tell the client "
   ]
  }
 ],
 "metadata": {
  "kernelspec": {
   "display_name": "Python 3 (ipykernel)",
   "language": "python",
   "name": "python3"
  },
  "language_info": {
   "codemirror_mode": {
    "name": "ipython",
    "version": 3
   },
   "file_extension": ".py",
   "mimetype": "text/x-python",
   "name": "python",
   "nbconvert_exporter": "python",
   "pygments_lexer": "ipython3",
   "version": "3.9.13"
  }
 },
 "nbformat": 4,
 "nbformat_minor": 5
}
